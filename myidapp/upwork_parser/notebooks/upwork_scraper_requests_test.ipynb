{
 "cells": [
  {
   "cell_type": "code",
   "execution_count": 1,
   "metadata": {},
   "outputs": [],
   "source": [
    "import json"
   ]
  },
  {
   "cell_type": "code",
   "execution_count": 3,
   "metadata": {},
   "outputs": [],
   "source": [
    "with open(\"www.upwork.com.har\", \"r\") as f:\n",
    "    data = json.load(f)"
   ]
  },
  {
   "cell_type": "code",
   "execution_count": 20,
   "metadata": {},
   "outputs": [
    {
     "data": {
      "text/plain": [
       "136"
      ]
     },
     "execution_count": 20,
     "metadata": {},
     "output_type": "execute_result"
    }
   ],
   "source": [
    "len(data['log']['entries'])"
   ]
  },
  {
   "cell_type": "code",
   "execution_count": 22,
   "metadata": {},
   "outputs": [
    {
     "data": {
      "text/plain": [
       "[{'name': ':authority', 'value': 'www.upwork.com'},\n",
       " {'name': ':method', 'value': 'GET'},\n",
       " {'name': ':path',\n",
       "  'value': '/nx/jobs/search/?occupation_uid=1031626803117539328&sort=recency'},\n",
       " {'name': ':scheme', 'value': 'https'},\n",
       " {'name': 'accept',\n",
       "  'value': 'text/html,application/xhtml+xml,application/xml;q=0.9,image/avif,image/webp,image/apng,*/*;q=0.8,application/signed-exchange;v=b3;q=0.7'},\n",
       " {'name': 'accept-encoding', 'value': 'gzip, deflate, br'},\n",
       " {'name': 'accept-language', 'value': 'en-US,en;q=0.9,ru;q=0.8'},\n",
       " {'name': 'cache-control', 'value': 'max-age=0'},\n",
       " {'name': 'cookie',\n",
       "  'value': 'visitor_id=46.172.72.1.1691752036489000; country_code=UA; cookie_prefix=; cookie_domain=.upwork.com; device_view=full; spt=bec34a9a-81ff-4e0e-9a77-32168a1c70df; g_state={\"i_l\":0}; OptanonAlertBoxClosed=2023-08-11T11:07:24.884Z; G_ENABLED_IDPS=google; recognized=prorabka; console_user=prorabka; user_uid=938918190134231040; current_organization_uid=938918190134231042; company_last_accessed=d18565408; jsTSize_938918190134231040=2; channel=other; DA_prorabka=e373284f382380b5a1097b1e880e25f2413e68cedb69de9e0abd88f19e082ec4; SZ=328476683900f961604a3c899d29436f57a4c0db797c486698353c1d22744b25; _gcl_au=1.1.215372731.1691935555; _cq_duid=1.1691935555.ew4N0wjq2FJ2d6La; _cq_suid=1.1691935555.t3m0zHCJaIYBovjE; _tt_enable_cookie=1; _ttp=1y-1x27y3fObd6UwGCFeduypsRQ; _rdt_uuid=1691935556301.3d4b6a97-2edd-4f30-9ae7-22e3da2c0a2f; _fbp=fb.1.1691935556309.1807484930; IR_gbd=upwork.com; __pdst=ec52ea51336e456784301bac0b0cc628; _zitok=d419e9f6a4aa87242b2e1691935557; _sp_id.2a16=cf1038d9-8578-4c04-ae36-5d1c9621764c.1691937394.1.1691937394.1691937394.9e8b7ba8-be52-4959-aaaa-b8aaad6b9ee8; _ga=GA1.1.635579484.1691935555; IR_13634=1691937405659%7C0%7C1691937405659%7C%7C; _uetvid=85a836f039e211eea43723cb3f23dc40; _ga_KSM221PNDX=GS1.1.1691937374.2.1.1691937483.0.0.0; FindWorkHome:hasInterviewsOrOffers=0; FindWorkHome:freelancerMenuSpacing=190px; __cflb=02DiuEXPXZVk436fJfSVuuwDqLqkhavJauECZZcuF4dRD; _cfuvid=bQQ4bUh4ZBh_nkDmdEy0JsJBUCp1rCPgV4.rzElFmCI-1692516639796-0-604800000; master_access_token=49ead5af.oauth2v2_69e6453d3519f23c8ab2ea8de6db8ba7; oauth2_global_js_token=oauth2v2_12d1f44018967dc7b005abf0e0802560; 3ba6e06asb=oauth2v2_5f2ba327ccc1280e6653d820a862d965; _upw_ses.5831=*; ftr_blst_1h=1692694758074; user_oauth2_slave_access_token=49ead5af.oauth2v2_69e6453d3519f23c8ab2ea8de6db8ba7:938918190134231040.oauth2v2_ada02fad98cd6d9ecf90f494e15a586c; asct_vt=oauth2v2_db0dab0fca5b69f24df97c288deea9a4; __cf_bm=BnDuJQXBqU.BhhI7r_0kBP68hYkwz5qR3A1P31949fA-1692696429-0-AaZs4TsVmKeLvtjaqFedMYst29SN200U+rVVNeHtW0aJ+taCt9I7JEtEhEypDlKrQRNUMdNKGCA3X6VNh6QcMxk=; vjd_gql_token=oauth2v2_dc6ecb68a6b79b3ccad63e555399476c; XSRF-TOKEN=346a7e6dd80ef14bfc0723b4dc717053; umq=1161; visitor_ui_gql_token_jobsearch=oauth2v2_678bfc2ef4ec4c722d8c93b6f33f317b; OptanonConsent=isGpcEnabled=0&datestamp=Tue+Aug+22+2023+12%3A33%3A57+GMT%2B0300+(Eastern+European+Summer+Time)&version=202305.1.0&browserGpcFlag=0&isIABGlobal=false&hosts=&consentId=88f0aeb6-b9f4-45f3-b19d-c0f6c4c84f88&interactionCount=2&landingPath=NotLandingPage&groups=C0001%3A1%2CC0002%3A1%2CC0003%3A1%2CC0004%3A1&geolocation=UA%3B63&AwaitingReconsent=false; _upw_id.5831=51a0ca48-34f5-4f7a-8904-d678ba589f99.1691752038.38.1692696839.1692684581.4f538e9e-9219-4ead-a1c1-61b4aed83c71.29f7692d-7266-402b-adec-6c9144997462.17249c75-4a1d-42b3-9b41-534b15158251.1692694757963.68; AWSALB=UROtImXcfBil6pKGaLRdft+fJPA/FYxlnEtsAnXtijunb+jVjwkMfW1MUphM7jiLAoCxqs/4HJpSXs7kALqXNiP/g8lU9/YA4SLHOshdFCgNFBJ7aZr2n0h2ff4J; AWSALBCORS=UROtImXcfBil6pKGaLRdft+fJPA/FYxlnEtsAnXtijunb+jVjwkMfW1MUphM7jiLAoCxqs/4HJpSXs7kALqXNiP/g8lU9/YA4SLHOshdFCgNFBJ7aZr2n0h2ff4J; forterToken=6c006925bcf043f1bbed33a13a9475cb_1692696837782_41610_UDF43-mnts-a4_14ck; enabled_ff=!pxFAA3,!MP16400Air3Migration,!pxWTA3,!pxGPA3,TONB2256Air3Migration,!TONB3476Air3Migration,CI9570Air2Dot5,!CI10270Air2Dot5QTAllocations,!air2Dot76Qt,!CI12577UniversalSearch,!SSINavUser,!JPAir3,!RMTAir3Talent,air2Dot76,!CI10857Air3Dot0,i18nOn,CI11132Air2Dot75,OTBnrOn,pxBPA3'},\n",
       " {'name': 'referer',\n",
       "  'value': 'https://www.upwork.com/jobs/Power-apps-expert_~0183d8b2cb41e74843'},\n",
       " {'name': 'sec-ch-ua',\n",
       "  'value': '\"Not.A/Brand\";v=\"8\", \"Chromium\";v=\"114\", \"Google Chrome\";v=\"114\"'},\n",
       " {'name': 'sec-ch-ua-mobile', 'value': '?0'},\n",
       " {'name': 'sec-ch-ua-platform', 'value': '\"Linux\"'},\n",
       " {'name': 'sec-fetch-dest', 'value': 'document'},\n",
       " {'name': 'sec-fetch-mode', 'value': 'navigate'},\n",
       " {'name': 'sec-fetch-site', 'value': 'same-origin'},\n",
       " {'name': 'sec-fetch-user', 'value': '?1'},\n",
       " {'name': 'upgrade-insecure-requests', 'value': '1'},\n",
       " {'name': 'user-agent',\n",
       "  'value': 'Mozilla/5.0 (X11; Linux x86_64) AppleWebKit/537.36 (KHTML, like Gecko) Chrome/114.0.0.0 Safari/537.36'}]"
      ]
     },
     "execution_count": 22,
     "metadata": {},
     "output_type": "execute_result"
    }
   ],
   "source": [
    "headers_to_process = data['log']['entries'][0]['request']['headers']"
   ]
  },
  {
   "cell_type": "code",
   "execution_count": 23,
   "metadata": {},
   "outputs": [],
   "source": [
    "headers_to_request = {}"
   ]
  },
  {
   "cell_type": "code",
   "execution_count": null,
   "metadata": {},
   "outputs": [],
   "source": [
    "headers_to_request[\":Authority\"] = \"www.upwork.com\"\n",
    "headers_to_request[\":Method\"] = \"GET\""
   ]
  }
 ],
 "metadata": {
  "kernelspec": {
   "display_name": ".venv",
   "language": "python",
   "name": "python3"
  },
  "language_info": {
   "codemirror_mode": {
    "name": "ipython",
    "version": 3
   },
   "file_extension": ".py",
   "mimetype": "text/x-python",
   "name": "python",
   "nbconvert_exporter": "python",
   "pygments_lexer": "ipython3",
   "version": "3.11.4"
  },
  "orig_nbformat": 4
 },
 "nbformat": 4,
 "nbformat_minor": 2
}
