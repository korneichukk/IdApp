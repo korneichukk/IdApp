{
 "cells": [
  {
   "cell_type": "code",
   "execution_count": 1,
   "metadata": {},
   "outputs": [],
   "source": [
    "import json\n",
    "\n",
    "with open(\"www.upwork.com.har\", 'r') as file:\n",
    "    har = json.loads(file.read())"
   ]
  },
  {
   "cell_type": "code",
   "execution_count": 3,
   "metadata": {},
   "outputs": [],
   "source": [
    "request_headers_list = []"
   ]
  },
  {
   "cell_type": "code",
   "execution_count": 4,
   "metadata": {},
   "outputs": [],
   "source": [
    "for entry in har['log']['entries']:\n",
    "    request = entry['request']\n",
    "    headers = request['headers']\n",
    "    \n",
    "    request_headers_list.append(headers)"
   ]
  },
  {
   "cell_type": "code",
   "execution_count": 9,
   "metadata": {},
   "outputs": [],
   "source": [
    "request_headers = request_headers_list[0]"
   ]
  },
  {
   "cell_type": "code",
   "execution_count": 13,
   "metadata": {},
   "outputs": [
    {
     "data": {
      "text/plain": [
       "{':authority': 'www.upwork.com',\n",
       " ':method': 'GET',\n",
       " ':path': '/nx/jobs/search/?sort=recency',\n",
       " ':scheme': 'https',\n",
       " 'accept': 'text/html,application/xhtml+xml,application/xml;q=0.9,image/avif,image/webp,image/apng,*/*;q=0.8,application/signed-exchange;v=b3;q=0.7',\n",
       " 'accept-encoding': 'gzip, deflate, br',\n",
       " 'accept-language': 'en-US,en;q=0.9',\n",
       " 'cache-control': 'max-age=0',\n",
       " 'cookie': 'visitor_id=46.172.72.1.1692525676251000; country_code=UA; cookie_prefix=; cookie_domain=.upwork.com; __cflb=02DiuEXPXZVk436fJfSVuuwDqLqkhavJbsub26duP5Nmy; _cfuvid=l5VdC0GTKE8Q.cWcKSXT5UtFyrL2fSWVLc_Z4HdWfPU-1692525676472-0-604800000; upcSI=e58cb28f-568a-49a2-a5c3-1f8ab490da8e; device_view=full; channel=other; spt=bfb7abf9-1fb2-44ea-9bc8-44d3d614341b; umq=1131; OptanonAlertBoxClosed=2023-08-20T10:01:31.385Z; visitor_ui_gql_token_jobsearch=oauth2v2_1decffa76ea103353eb9cdbaa3b5aff4; OptanonConsent=isGpcEnabled=0&datestamp=Sun+Aug+20+2023+13%3A06%3A30+GMT%2B0300+(Eastern+European+Summer+Time)&version=202305.1.0&browserGpcFlag=0&isIABGlobal=false&hosts=&consentId=6d5d297d-091f-4fe6-b7ac-dcc9d95bc2c4&interactionCount=2&landingPath=NotLandingPage&groups=C0001%3A1%2CC0002%3A1%2CC0003%3A1%2CC0004%3A1&geolocation=UA%3B63&AwaitingReconsent=false; enabled_ff=!pxBPA3,TONB2256Air3Migration,!pxFAA3,OTBnrOn,CI11132Air2Dot75,!RMTAir3Talent,!air2Dot76Qt,!SSINavUser,!CI10270Air2Dot5QTAllocations,!CI10857Air3Dot0,!TONB3476Air3Migration,air2Dot76,!pxWTA3,!CI12577UniversalSearch,!JPAir3,i18nOn,!pxGPA3,pxTHA3,CI9570Air2Dot5,!MP16400Air3Migration; _upw_id.5831=0c02097a-1b1a-4058-b516-6a9ef678c7fb.1692525678.1.1692525991..80e9730f-c5f4-4f80-98f1-17eb7eb7e5c6..aba9e9c8-4373-44ba-af23-476dad92cd4c.1692525678528.15; forterToken=49a5a99383334a8d8c5e31190e3084a9_1692525990545__UDF43-m4_14ck; AWSALB=gywxDv/Mu7CjYkzN3ZFca0GsGLY9pOcdXrKeRabYYl6DHil9kjk/96XsLwcmZ1Y1E9GszO+xENiOw2eaTLzf/CqmW7J9yQe4dSmkTQsRXK35GSLhrwWTcFSIno8C; AWSALBCORS=gywxDv/Mu7CjYkzN3ZFca0GsGLY9pOcdXrKeRabYYl6DHil9kjk/96XsLwcmZ1Y1E9GszO+xENiOw2eaTLzf/CqmW7J9yQe4dSmkTQsRXK35GSLhrwWTcFSIno8C',\n",
       " 'sec-ch-ua': '\"Not.A/Brand\";v=\"8\", \"Chromium\";v=\"114\", \"Google Chrome\";v=\"114\"',\n",
       " 'sec-ch-ua-mobile': '?0',\n",
       " 'sec-ch-ua-platform': '\"Linux\"',\n",
       " 'sec-fetch-dest': 'document',\n",
       " 'sec-fetch-mode': 'navigate',\n",
       " 'sec-fetch-site': 'same-origin',\n",
       " 'sec-fetch-user': '?1',\n",
       " 'upgrade-insecure-requests': '1',\n",
       " 'user-agent': 'Mozilla/5.0 (X11; Linux x86_64) AppleWebKit/537.36 (KHTML, like Gecko) Chrome/114.0.0.0 Safari/537.36'}"
      ]
     },
     "execution_count": 13,
     "metadata": {},
     "output_type": "execute_result"
    }
   ],
   "source": [
    "headers_parsed = {}\n",
    "for header in request_headers:\n",
    "    headers_parsed[header['name']] = header['value']\n",
    "headers_parsed"
   ]
  },
  {
   "cell_type": "code",
   "execution_count": 14,
   "metadata": {},
   "outputs": [],
   "source": [
    "import requests"
   ]
  },
  {
   "cell_type": "code",
   "execution_count": 15,
   "metadata": {},
   "outputs": [
    {
     "ename": "InvalidHeader",
     "evalue": "Invalid leading whitespace, reserved character(s), or returncharacter(s) in header name: ':authority'",
     "output_type": "error",
     "traceback": [
      "\u001b[0;31m---------------------------------------------------------------------------\u001b[0m",
      "\u001b[0;31mInvalidHeader\u001b[0m                             Traceback (most recent call last)",
      "Cell \u001b[0;32mIn[15], line 1\u001b[0m\n\u001b[0;32m----> 1\u001b[0m response \u001b[39m=\u001b[39m requests\u001b[39m.\u001b[39;49mget(\n\u001b[1;32m      2\u001b[0m     \u001b[39m\"\u001b[39;49m\u001b[39mhttps://www.upwork.com/search/jobs/url?sort=recency&q=&per_page=10\u001b[39;49m\u001b[39m\"\u001b[39;49m,\n\u001b[1;32m      3\u001b[0m     headers\u001b[39m=\u001b[39;49mheaders_parsed,\n\u001b[1;32m      4\u001b[0m )\n",
      "File \u001b[0;32m~/code/MyIDApp/.venv/lib/python3.11/site-packages/requests/api.py:73\u001b[0m, in \u001b[0;36mget\u001b[0;34m(url, params, **kwargs)\u001b[0m\n\u001b[1;32m     62\u001b[0m \u001b[39mdef\u001b[39;00m \u001b[39mget\u001b[39m(url, params\u001b[39m=\u001b[39m\u001b[39mNone\u001b[39;00m, \u001b[39m*\u001b[39m\u001b[39m*\u001b[39mkwargs):\n\u001b[1;32m     63\u001b[0m \u001b[39m    \u001b[39m\u001b[39mr\u001b[39m\u001b[39m\"\"\"Sends a GET request.\u001b[39;00m\n\u001b[1;32m     64\u001b[0m \n\u001b[1;32m     65\u001b[0m \u001b[39m    :param url: URL for the new :class:`Request` object.\u001b[39;00m\n\u001b[0;32m   (...)\u001b[0m\n\u001b[1;32m     70\u001b[0m \u001b[39m    :rtype: requests.Response\u001b[39;00m\n\u001b[1;32m     71\u001b[0m \u001b[39m    \"\"\"\u001b[39;00m\n\u001b[0;32m---> 73\u001b[0m     \u001b[39mreturn\u001b[39;00m request(\u001b[39m\"\u001b[39;49m\u001b[39mget\u001b[39;49m\u001b[39m\"\u001b[39;49m, url, params\u001b[39m=\u001b[39;49mparams, \u001b[39m*\u001b[39;49m\u001b[39m*\u001b[39;49mkwargs)\n",
      "File \u001b[0;32m~/code/MyIDApp/.venv/lib/python3.11/site-packages/requests/api.py:59\u001b[0m, in \u001b[0;36mrequest\u001b[0;34m(method, url, **kwargs)\u001b[0m\n\u001b[1;32m     55\u001b[0m \u001b[39m# By using the 'with' statement we are sure the session is closed, thus we\u001b[39;00m\n\u001b[1;32m     56\u001b[0m \u001b[39m# avoid leaving sockets open which can trigger a ResourceWarning in some\u001b[39;00m\n\u001b[1;32m     57\u001b[0m \u001b[39m# cases, and look like a memory leak in others.\u001b[39;00m\n\u001b[1;32m     58\u001b[0m \u001b[39mwith\u001b[39;00m sessions\u001b[39m.\u001b[39mSession() \u001b[39mas\u001b[39;00m session:\n\u001b[0;32m---> 59\u001b[0m     \u001b[39mreturn\u001b[39;00m session\u001b[39m.\u001b[39;49mrequest(method\u001b[39m=\u001b[39;49mmethod, url\u001b[39m=\u001b[39;49murl, \u001b[39m*\u001b[39;49m\u001b[39m*\u001b[39;49mkwargs)\n",
      "File \u001b[0;32m~/code/MyIDApp/.venv/lib/python3.11/site-packages/requests/sessions.py:575\u001b[0m, in \u001b[0;36mSession.request\u001b[0;34m(self, method, url, params, data, headers, cookies, files, auth, timeout, allow_redirects, proxies, hooks, stream, verify, cert, json)\u001b[0m\n\u001b[1;32m    562\u001b[0m \u001b[39m# Create the Request.\u001b[39;00m\n\u001b[1;32m    563\u001b[0m req \u001b[39m=\u001b[39m Request(\n\u001b[1;32m    564\u001b[0m     method\u001b[39m=\u001b[39mmethod\u001b[39m.\u001b[39mupper(),\n\u001b[1;32m    565\u001b[0m     url\u001b[39m=\u001b[39murl,\n\u001b[0;32m   (...)\u001b[0m\n\u001b[1;32m    573\u001b[0m     hooks\u001b[39m=\u001b[39mhooks,\n\u001b[1;32m    574\u001b[0m )\n\u001b[0;32m--> 575\u001b[0m prep \u001b[39m=\u001b[39m \u001b[39mself\u001b[39;49m\u001b[39m.\u001b[39;49mprepare_request(req)\n\u001b[1;32m    577\u001b[0m proxies \u001b[39m=\u001b[39m proxies \u001b[39mor\u001b[39;00m {}\n\u001b[1;32m    579\u001b[0m settings \u001b[39m=\u001b[39m \u001b[39mself\u001b[39m\u001b[39m.\u001b[39mmerge_environment_settings(\n\u001b[1;32m    580\u001b[0m     prep\u001b[39m.\u001b[39murl, proxies, stream, verify, cert\n\u001b[1;32m    581\u001b[0m )\n",
      "File \u001b[0;32m~/code/MyIDApp/.venv/lib/python3.11/site-packages/requests/sessions.py:486\u001b[0m, in \u001b[0;36mSession.prepare_request\u001b[0;34m(self, request)\u001b[0m\n\u001b[1;32m    483\u001b[0m     auth \u001b[39m=\u001b[39m get_netrc_auth(request\u001b[39m.\u001b[39murl)\n\u001b[1;32m    485\u001b[0m p \u001b[39m=\u001b[39m PreparedRequest()\n\u001b[0;32m--> 486\u001b[0m p\u001b[39m.\u001b[39;49mprepare(\n\u001b[1;32m    487\u001b[0m     method\u001b[39m=\u001b[39;49mrequest\u001b[39m.\u001b[39;49mmethod\u001b[39m.\u001b[39;49mupper(),\n\u001b[1;32m    488\u001b[0m     url\u001b[39m=\u001b[39;49mrequest\u001b[39m.\u001b[39;49murl,\n\u001b[1;32m    489\u001b[0m     files\u001b[39m=\u001b[39;49mrequest\u001b[39m.\u001b[39;49mfiles,\n\u001b[1;32m    490\u001b[0m     data\u001b[39m=\u001b[39;49mrequest\u001b[39m.\u001b[39;49mdata,\n\u001b[1;32m    491\u001b[0m     json\u001b[39m=\u001b[39;49mrequest\u001b[39m.\u001b[39;49mjson,\n\u001b[1;32m    492\u001b[0m     headers\u001b[39m=\u001b[39;49mmerge_setting(\n\u001b[1;32m    493\u001b[0m         request\u001b[39m.\u001b[39;49mheaders, \u001b[39mself\u001b[39;49m\u001b[39m.\u001b[39;49mheaders, dict_class\u001b[39m=\u001b[39;49mCaseInsensitiveDict\n\u001b[1;32m    494\u001b[0m     ),\n\u001b[1;32m    495\u001b[0m     params\u001b[39m=\u001b[39;49mmerge_setting(request\u001b[39m.\u001b[39;49mparams, \u001b[39mself\u001b[39;49m\u001b[39m.\u001b[39;49mparams),\n\u001b[1;32m    496\u001b[0m     auth\u001b[39m=\u001b[39;49mmerge_setting(auth, \u001b[39mself\u001b[39;49m\u001b[39m.\u001b[39;49mauth),\n\u001b[1;32m    497\u001b[0m     cookies\u001b[39m=\u001b[39;49mmerged_cookies,\n\u001b[1;32m    498\u001b[0m     hooks\u001b[39m=\u001b[39;49mmerge_hooks(request\u001b[39m.\u001b[39;49mhooks, \u001b[39mself\u001b[39;49m\u001b[39m.\u001b[39;49mhooks),\n\u001b[1;32m    499\u001b[0m )\n\u001b[1;32m    500\u001b[0m \u001b[39mreturn\u001b[39;00m p\n",
      "File \u001b[0;32m~/code/MyIDApp/.venv/lib/python3.11/site-packages/requests/models.py:369\u001b[0m, in \u001b[0;36mPreparedRequest.prepare\u001b[0;34m(self, method, url, headers, files, data, params, auth, cookies, hooks, json)\u001b[0m\n\u001b[1;32m    367\u001b[0m \u001b[39mself\u001b[39m\u001b[39m.\u001b[39mprepare_method(method)\n\u001b[1;32m    368\u001b[0m \u001b[39mself\u001b[39m\u001b[39m.\u001b[39mprepare_url(url, params)\n\u001b[0;32m--> 369\u001b[0m \u001b[39mself\u001b[39;49m\u001b[39m.\u001b[39;49mprepare_headers(headers)\n\u001b[1;32m    370\u001b[0m \u001b[39mself\u001b[39m\u001b[39m.\u001b[39mprepare_cookies(cookies)\n\u001b[1;32m    371\u001b[0m \u001b[39mself\u001b[39m\u001b[39m.\u001b[39mprepare_body(data, files, json)\n",
      "File \u001b[0;32m~/code/MyIDApp/.venv/lib/python3.11/site-packages/requests/models.py:491\u001b[0m, in \u001b[0;36mPreparedRequest.prepare_headers\u001b[0;34m(self, headers)\u001b[0m\n\u001b[1;32m    488\u001b[0m \u001b[39mif\u001b[39;00m headers:\n\u001b[1;32m    489\u001b[0m     \u001b[39mfor\u001b[39;00m header \u001b[39min\u001b[39;00m headers\u001b[39m.\u001b[39mitems():\n\u001b[1;32m    490\u001b[0m         \u001b[39m# Raise exception on invalid header value.\u001b[39;00m\n\u001b[0;32m--> 491\u001b[0m         check_header_validity(header)\n\u001b[1;32m    492\u001b[0m         name, value \u001b[39m=\u001b[39m header\n\u001b[1;32m    493\u001b[0m         \u001b[39mself\u001b[39m\u001b[39m.\u001b[39mheaders[to_native_string(name)] \u001b[39m=\u001b[39m value\n",
      "File \u001b[0;32m~/code/MyIDApp/.venv/lib/python3.11/site-packages/requests/utils.py:1039\u001b[0m, in \u001b[0;36mcheck_header_validity\u001b[0;34m(header)\u001b[0m\n\u001b[1;32m   1033\u001b[0m \u001b[39m\u001b[39m\u001b[39m\"\"\"Verifies that header parts don't contain leading whitespace\u001b[39;00m\n\u001b[1;32m   1034\u001b[0m \u001b[39mreserved characters, or return characters.\u001b[39;00m\n\u001b[1;32m   1035\u001b[0m \n\u001b[1;32m   1036\u001b[0m \u001b[39m:param header: tuple, in the format (name, value).\u001b[39;00m\n\u001b[1;32m   1037\u001b[0m \u001b[39m\"\"\"\u001b[39;00m\n\u001b[1;32m   1038\u001b[0m name, value \u001b[39m=\u001b[39m header\n\u001b[0;32m-> 1039\u001b[0m _validate_header_part(header, name, \u001b[39m0\u001b[39;49m)\n\u001b[1;32m   1040\u001b[0m _validate_header_part(header, value, \u001b[39m1\u001b[39m)\n",
      "File \u001b[0;32m~/code/MyIDApp/.venv/lib/python3.11/site-packages/requests/utils.py:1056\u001b[0m, in \u001b[0;36m_validate_header_part\u001b[0;34m(header, header_part, header_validator_index)\u001b[0m\n\u001b[1;32m   1054\u001b[0m \u001b[39mif\u001b[39;00m \u001b[39mnot\u001b[39;00m validator\u001b[39m.\u001b[39mmatch(header_part):\n\u001b[1;32m   1055\u001b[0m     header_kind \u001b[39m=\u001b[39m \u001b[39m\"\u001b[39m\u001b[39mname\u001b[39m\u001b[39m\"\u001b[39m \u001b[39mif\u001b[39;00m header_validator_index \u001b[39m==\u001b[39m \u001b[39m0\u001b[39m \u001b[39melse\u001b[39;00m \u001b[39m\"\u001b[39m\u001b[39mvalue\u001b[39m\u001b[39m\"\u001b[39m\n\u001b[0;32m-> 1056\u001b[0m     \u001b[39mraise\u001b[39;00m InvalidHeader(\n\u001b[1;32m   1057\u001b[0m         \u001b[39mf\u001b[39m\u001b[39m\"\u001b[39m\u001b[39mInvalid leading whitespace, reserved character(s), or return\u001b[39m\u001b[39m\"\u001b[39m\n\u001b[1;32m   1058\u001b[0m         \u001b[39mf\u001b[39m\u001b[39m\"\u001b[39m\u001b[39mcharacter(s) in header \u001b[39m\u001b[39m{\u001b[39;00mheader_kind\u001b[39m}\u001b[39;00m\u001b[39m: \u001b[39m\u001b[39m{\u001b[39;00mheader_part\u001b[39m!r}\u001b[39;00m\u001b[39m\"\u001b[39m\n\u001b[1;32m   1059\u001b[0m     )\n",
      "\u001b[0;31mInvalidHeader\u001b[0m: Invalid leading whitespace, reserved character(s), or returncharacter(s) in header name: ':authority'"
     ]
    }
   ],
   "source": [
    "response = requests.get(\n",
    "    \"https://www.upwork.com/search/jobs/url?sort=recency&q=&per_page=10\",\n",
    "    headers=headers_parsed,\n",
    ")"
   ]
  },
  {
   "cell_type": "code",
   "execution_count": null,
   "metadata": {},
   "outputs": [],
   "source": []
  }
 ],
 "metadata": {
  "kernelspec": {
   "display_name": ".venv",
   "language": "python",
   "name": "python3"
  },
  "language_info": {
   "codemirror_mode": {
    "name": "ipython",
    "version": 3
   },
   "file_extension": ".py",
   "mimetype": "text/x-python",
   "name": "python",
   "nbconvert_exporter": "python",
   "pygments_lexer": "ipython3",
   "version": "3.11.4"
  },
  "orig_nbformat": 4
 },
 "nbformat": 4,
 "nbformat_minor": 2
}
